{
 "nbformat": 4,
 "nbformat_minor": 2,
 "metadata": {
  "language_info": {
   "name": "python",
   "codemirror_mode": {
    "name": "ipython",
    "version": 3
   },
   "version": "3.7.4-final"
  },
  "orig_nbformat": 2,
  "file_extension": ".py",
  "mimetype": "text/x-python",
  "name": "python",
  "npconvert_exporter": "python",
  "pygments_lexer": "ipython3",
  "version": 3,
  "kernelspec": {
   "name": "python3",
   "display_name": "Python 3"
  }
 },
 "cells": [
  {
   "cell_type": "code",
   "execution_count": 2,
   "metadata": {},
   "outputs": [],
   "source": [
    "## Area de importacion\n",
    "#%%\n",
    "import pandas"
   ]
  },
  {
   "cell_type": "code",
   "execution_count": 3,
   "metadata": {},
   "outputs": [
    {
     "data": {
      "text/html": "<div>\n<style scoped>\n    .dataframe tbody tr th:only-of-type {\n        vertical-align: middle;\n    }\n\n    .dataframe tbody tr th {\n        vertical-align: top;\n    }\n\n    .dataframe thead th {\n        text-align: right;\n    }\n</style>\n<table border=\"1\" class=\"dataframe\">\n  <thead>\n    <tr style=\"text-align: right;\">\n      <th></th>\n      <th>ID</th>\n      <th>Name</th>\n      <th>Elixir Cost</th>\n      <th>Type</th>\n      <th>Rarity</th>\n      <th>Objectives</th>\n      <th>Units</th>\n      <th>Range</th>\n      <th>Speed</th>\n      <th>Hit-Speed</th>\n      <th>Area Damage</th>\n      <th>Life-points</th>\n      <th>Damage</th>\n      <th>King Tower Damage/ Extra attack</th>\n      <th>MaxLevel</th>\n      <th>Usage</th>\n      <th>Usage rate</th>\n      <th>Win</th>\n      <th>Win rate</th>\n      <th>iconUrls</th>\n    </tr>\n  </thead>\n  <tbody>\n    <tr>\n      <td>0</td>\n      <td>26000001</td>\n      <td>Archers</td>\n      <td>3</td>\n      <td>Troop</td>\n      <td>Common</td>\n      <td>ground/air</td>\n      <td>2</td>\n      <td>5.00</td>\n      <td>medium</td>\n      <td>1.2</td>\n      <td>0.0</td>\n      <td>252</td>\n      <td>89</td>\n      <td>74</td>\n      <td>13</td>\n      <td>0.08</td>\n      <td>0.00</td>\n      <td>0.49</td>\n      <td>0.00</td>\n      <td>{'medium': 'https://api-assets.clashroyale.com...</td>\n    </tr>\n    <tr>\n      <td>1</td>\n      <td>28000001</td>\n      <td>Arrows</td>\n      <td>3</td>\n      <td>Spell</td>\n      <td>Common</td>\n      <td>ground/air</td>\n      <td>1</td>\n      <td>4.00</td>\n      <td>very fast</td>\n      <td>1.3</td>\n      <td>4.0</td>\n      <td>0</td>\n      <td>101</td>\n      <td>35</td>\n      <td>13</td>\n      <td>0.18</td>\n      <td>0.00</td>\n      <td>0.50</td>\n      <td>0.00</td>\n      <td>{'medium': 'https://api-assets.clashroyale.com...</td>\n    </tr>\n    <tr>\n      <td>2</td>\n      <td>26000015</td>\n      <td>Baby Dragon</td>\n      <td>4</td>\n      <td>Troop</td>\n      <td>Epic</td>\n      <td>ground/air</td>\n      <td>1</td>\n      <td>3.50</td>\n      <td>fast</td>\n      <td>1.5</td>\n      <td>1.2</td>\n      <td>1024</td>\n      <td>133</td>\n      <td>88</td>\n      <td>8</td>\n      <td>0.24</td>\n      <td>0.02</td>\n      <td>0.51</td>\n      <td>0.00</td>\n      <td>{'medium': 'https://api-assets.clashroyale.com...</td>\n    </tr>\n    <tr>\n      <td>3</td>\n      <td>26000006</td>\n      <td>Balloon</td>\n      <td>5</td>\n      <td>Troop</td>\n      <td>Epic</td>\n      <td>Structures</td>\n      <td>1</td>\n      <td>0.10</td>\n      <td>medium</td>\n      <td>3.0</td>\n      <td>266.0</td>\n      <td>1396</td>\n      <td>798</td>\n      <td>266</td>\n      <td>8</td>\n      <td>0.13</td>\n      <td>0.00</td>\n      <td>0.49</td>\n      <td>0.01</td>\n      <td>{'medium': 'https://api-assets.clashroyale.com...</td>\n    </tr>\n    <tr>\n      <td>4</td>\n      <td>26000046</td>\n      <td>Bandit</td>\n      <td>3</td>\n      <td>Troop</td>\n      <td>Legendary</td>\n      <td>ground</td>\n      <td>1</td>\n      <td>0.75</td>\n      <td>fast</td>\n      <td>1.0</td>\n      <td>0.0</td>\n      <td>4</td>\n      <td>160</td>\n      <td>320</td>\n      <td>5</td>\n      <td>0.12</td>\n      <td>-0.02</td>\n      <td>0.52</td>\n      <td>-0.05</td>\n      <td>{'medium': 'https://api-assets.clashroyale.com...</td>\n    </tr>\n    <tr>\n      <td>5</td>\n      <td>28000015</td>\n      <td>Barbarian Barrel</td>\n      <td>2</td>\n      <td>Spell</td>\n      <td>Epic</td>\n      <td>ground</td>\n      <td>1</td>\n      <td>5.00</td>\n      <td>medium</td>\n      <td>1.0</td>\n      <td>5.0</td>\n      <td>555</td>\n      <td>159</td>\n      <td>113</td>\n      <td>8</td>\n      <td>0.13</td>\n      <td>0.00</td>\n      <td>0.53</td>\n      <td>0.02</td>\n      <td>{'medium': 'https://api-assets.clashroyale.com...</td>\n    </tr>\n    <tr>\n      <td>6</td>\n      <td>27000005</td>\n      <td>Barbarian Hut</td>\n      <td>7</td>\n      <td>Structure</td>\n      <td>Rare</td>\n      <td>ground</td>\n      <td>1</td>\n      <td>0.70</td>\n      <td>slow</td>\n      <td>1.0</td>\n      <td>0.0</td>\n      <td>1804</td>\n      <td>159</td>\n      <td>137</td>\n      <td>11</td>\n      <td>0.02</td>\n      <td>-0.01</td>\n      <td>0.52</td>\n      <td>0.00</td>\n      <td>{'medium': 'https://api-assets.clashroyale.com...</td>\n    </tr>\n    <tr>\n      <td>7</td>\n      <td>26000008</td>\n      <td>Barbarians</td>\n      <td>5</td>\n      <td>Troop</td>\n      <td>Common</td>\n      <td>ground</td>\n      <td>5</td>\n      <td>0.70</td>\n      <td>medium</td>\n      <td>1.4</td>\n      <td>0.0</td>\n      <td>505</td>\n      <td>144</td>\n      <td>102</td>\n      <td>13</td>\n      <td>0.05</td>\n      <td>0.00</td>\n      <td>0.50</td>\n      <td>0.00</td>\n      <td>{'medium': 'https://api-assets.clashroyale.com...</td>\n    </tr>\n    <tr>\n      <td>8</td>\n      <td>26000049</td>\n      <td>Bats</td>\n      <td>2</td>\n      <td>Troop</td>\n      <td>Common</td>\n      <td>ground/air</td>\n      <td>5</td>\n      <td>0.30</td>\n      <td>Very fast</td>\n      <td>1.1</td>\n      <td>0.0</td>\n      <td>67</td>\n      <td>67</td>\n      <td>60</td>\n      <td>13</td>\n      <td>0.21</td>\n      <td>0.01</td>\n      <td>0.51</td>\n      <td>-0.01</td>\n      <td>{'medium': 'https://api-assets.clashroyale.com...</td>\n    </tr>\n    <tr>\n      <td>9</td>\n      <td>26000068</td>\n      <td>Battle Healer</td>\n      <td>4</td>\n      <td>Troop</td>\n      <td>Rare</td>\n      <td>ground</td>\n      <td>1</td>\n      <td>0.70</td>\n      <td>medium</td>\n      <td>1.5</td>\n      <td>0.0</td>\n      <td>1584</td>\n      <td>123</td>\n      <td>76</td>\n      <td>11</td>\n      <td>0.02</td>\n      <td>0.01</td>\n      <td>0.52</td>\n      <td>0.02</td>\n      <td>{'medium': 'https://api-assets.clashroyale.com...</td>\n    </tr>\n  </tbody>\n</table>\n</div>",
      "text/plain": "         ID              Name  Elixir Cost       Type     Rarity  Objectives  \\\n0  26000001           Archers            3      Troop     Common  ground/air   \n1  28000001            Arrows            3      Spell     Common  ground/air   \n2  26000015       Baby Dragon            4      Troop       Epic  ground/air   \n3  26000006           Balloon            5      Troop       Epic  Structures   \n4  26000046            Bandit            3      Troop  Legendary      ground   \n5  28000015  Barbarian Barrel            2      Spell       Epic      ground   \n6  27000005     Barbarian Hut            7  Structure       Rare      ground   \n7  26000008        Barbarians            5      Troop     Common      ground   \n8  26000049              Bats            2      Troop     Common  ground/air   \n9  26000068     Battle Healer            4      Troop       Rare      ground   \n\n   Units  Range      Speed  Hit-Speed  Area Damage  Life-points  Damage  \\\n0      2   5.00     medium        1.2          0.0          252      89   \n1      1   4.00  very fast        1.3          4.0            0     101   \n2      1   3.50       fast        1.5          1.2         1024     133   \n3      1   0.10     medium        3.0        266.0         1396     798   \n4      1   0.75       fast        1.0          0.0            4     160   \n5      1   5.00     medium        1.0          5.0          555     159   \n6      1   0.70       slow        1.0          0.0         1804     159   \n7      5   0.70     medium        1.4          0.0          505     144   \n8      5   0.30  Very fast        1.1          0.0           67      67   \n9      1   0.70     medium        1.5          0.0         1584     123   \n\n   King Tower Damage/ Extra attack  MaxLevel  Usage  Usage rate   Win  \\\n0                               74        13   0.08        0.00  0.49   \n1                               35        13   0.18        0.00  0.50   \n2                               88         8   0.24        0.02  0.51   \n3                              266         8   0.13        0.00  0.49   \n4                              320         5   0.12       -0.02  0.52   \n5                              113         8   0.13        0.00  0.53   \n6                              137        11   0.02       -0.01  0.52   \n7                              102        13   0.05        0.00  0.50   \n8                               60        13   0.21        0.01  0.51   \n9                               76        11   0.02        0.01  0.52   \n\n   Win rate                                           iconUrls  \n0      0.00  {'medium': 'https://api-assets.clashroyale.com...  \n1      0.00  {'medium': 'https://api-assets.clashroyale.com...  \n2      0.00  {'medium': 'https://api-assets.clashroyale.com...  \n3      0.01  {'medium': 'https://api-assets.clashroyale.com...  \n4     -0.05  {'medium': 'https://api-assets.clashroyale.com...  \n5      0.02  {'medium': 'https://api-assets.clashroyale.com...  \n6      0.00  {'medium': 'https://api-assets.clashroyale.com...  \n7      0.00  {'medium': 'https://api-assets.clashroyale.com...  \n8     -0.01  {'medium': 'https://api-assets.clashroyale.com...  \n9      0.02  {'medium': 'https://api-assets.clashroyale.com...  "
     },
     "execution_count": 3,
     "metadata": {},
     "output_type": "execute_result"
    }
   ],
   "source": [
    "# Carga de Datos\n",
    "#%%\n",
    "data = pandas.read_excel('data-clash-royale.xlsx')\n",
    "data.head(10)"
   ]
  },
  {
   "cell_type": "code",
   "execution_count": 4,
   "metadata": {},
   "outputs": [
    {
     "name": "stdout",
     "output_type": "stream",
     "text": "<class 'pandas.core.frame.DataFrame'>\nRangeIndex: 97 entries, 0 to 96\nData columns (total 20 columns):\nID                                 97 non-null int64\nName                               97 non-null object\nElixir Cost                        97 non-null int64\nType                               97 non-null object\nRarity                             97 non-null object\nObjectives                         97 non-null object\nUnits                              97 non-null int64\nRange                              97 non-null float64\nSpeed                              97 non-null object\nHit-Speed                          97 non-null float64\nArea Damage                        97 non-null float64\nLife-points                        97 non-null int64\nDamage                             97 non-null int64\nKing Tower Damage/ Extra attack    97 non-null int64\nMaxLevel                           97 non-null int64\nUsage                              97 non-null float64\nUsage rate                         97 non-null float64\nWin                                97 non-null float64\nWin rate                           97 non-null float64\niconUrls                           97 non-null object\ndtypes: float64(7), int64(7), object(6)\nmemory usage: 15.3+ KB\n"
    }
   ],
   "source": [
    "## Visualización de datos.\n",
    "## Todo el dataframe se hizo desde scratch, por lo que debe estar limpia un 90%.\n",
    "#%%\n",
    "data.info()"
   ]
  },
  {
   "cell_type": "code",
   "execution_count": 5,
   "metadata": {},
   "outputs": [],
   "source": [
    "## INFO DE LAS COLUMNAS\n",
    "#%% \n",
    "\n",
    "#RangeIndex: 98 entries, 0 to 97\n",
    "#Data columns (total 20 columns):\n",
    "#id     98 non-null int64 - ID unico de la carta\n",
    "#name   98 non-null object - El nombre oficial del personaje/carta\n",
    "#Elixir cost 98 non-null object - El coste de elixir de la carta\n",
    "#Card Type: Troop/Spell/Structure 98 non-null object - Categórica que indica si la carta es \"TROPA\", \"ESTRUCTURA\", \"HECHIZO\"\n",
    "#Rarity  98 non-null object - Categórica que indica un valor agregado a la carta que van de \"COMUN\" \"RARA\" \"EPICA\" O \"LEGENDARIA\"\n",
    "#Objectives  98 non-null object -  Indica el objetivo a los que ataca el personaje, \"Objetivos aereos\" \"objetivos terrestres\" \"Estructuras\"\n",
    "#Units       98 non-null int64 - Cantidad de personajes que aparecen del mismo tipo con dicha carta (skeleton army, barbarians, etc)\n",
    "#Range        98 non-null object - El alcance de ataque de la carta\n",
    "#Speed       98 non-null object - Velocidad de avance de la carta.\n",
    "#Hit-Speed    98 non-null object - Velocidad a la que golpea (Velocidad entre un golpe que puede dar y otro)\n",
    "#Area Damage  98 non-null object - El daño que generan aledañamente cuando golpea o por la naturaleza de su ataque.\n",
    "#Lifepoints      98 non-null object - Los puntos de vida de la carta\n",
    "#Damage       98 non-null object - El daño que hace por golpe\n",
    "#King Tower Damage/ Extra attack     98 non-null object - Esta variable es para contabilizar un ataque especial/unico/daño a la torre, al final es una variable que pasa en menor cantidad.\n",
    "\n",
    "#maxLevel      98 non-null int64 - El nivel maximo de la carta (ESTE DATO ESTA DEPRECADO)\n",
    "#Usage        98 non-null float64 - Porcentaje de victorias de la carta de acuerdo al uso general\n",
    "#Usage.1      98 non-null float64 - POR DEFINIR\n",
    "#Win %        98 non-null float64 - Porcentaje de victorias de la carta de acuerdo al uso general\n",
    "#Win          98 non-null float64 - POR DEFINIR\n",
    "#iconUrls     98 non-null object - URL Imagen de la carta\n",
    "#dtypes: float64(4), int64(3), object(13)\n",
    "#memory usage: 15.4+ KB"
   ]
  },
  {
   "cell_type": "code",
   "execution_count": 6,
   "metadata": {},
   "outputs": [
    {
     "name": "stdout",
     "output_type": "stream",
     "text": "Index(['Elixir-cost', 'Type', 'Rarity', 'Objectives', 'Units', 'Range',\n       'Speed', 'Hit-speed', 'damage-area', 'Life-points', 'Damage',\n       'Other-attack', 'Usage', 'Win'],\n      dtype='object')\n"
    }
   ],
   "source": [
    "## Limpieza de columnas a gran escala y acomodo para modelo\n",
    "#%%\n",
    "data = data.rename(columns={'ID':'Id', 'Elixir Cost':'Elixir-cost', 'Hit-Speed':'Hit-speed', 'Area Damage':'damage-area', 'King Tower Damage/ Extra attack':'Other-attack', 'Usage rate':'use-rate', 'Win rate':'win-rate'})\n",
    "\n",
    "data = data.drop(columns=['Id','MaxLevel','iconUrls','use-rate','win-rate'])\n",
    "data = data.set_index('Name')\n",
    "\n",
    "\n",
    "print(data.keys())"
   ]
  },
  {
   "cell_type": "code",
   "execution_count": 7,
   "metadata": {},
   "outputs": [
    {
     "data": {
      "text/plain": "Index(['Elixir-cost', 'Type', 'Rarity', 'Objectives', 'Units', 'Range',\n       'Speed', 'Hit-speed', 'damage-area', 'Life-points', 'Damage',\n       'Other-attack', 'Usage', 'Win'],\n      dtype='object')"
     },
     "execution_count": 7,
     "metadata": {},
     "output_type": "execute_result"
    }
   ],
   "source": [
    "## Limpiezas menores, rows que no se van a usar, etc\n",
    "#%%\n",
    "data.keys()"
   ]
  },
  {
   "cell_type": "code",
   "execution_count": 8,
   "metadata": {},
   "outputs": [],
   "source": [
    "## Transformación de datos.\n",
    "#%%\n",
    "#data.to_csv('clash-test.csv')"
   ]
  },
  {
   "cell_type": "code",
   "execution_count": 9,
   "metadata": {},
   "outputs": [
    {
     "name": "stdout",
     "output_type": "stream",
     "text": "Elixir cost:  4    25\n3    24\n5    17\n2    12\n6     9\n7     5\n1     3\n9     1\n8     1\nName: Elixir-cost, dtype: int64\n------------------------------\nType:  Troop        67\nSpell        18\nStructure    12\nName: Type, dtype: int64\n------------------------------\nRarity:  Rare         28\nEpic         26\nCommon       26\nLegendary    17\nName: Rarity, dtype: int64\n------------------------------\nObjectives:  ground/air    41\nground        39\nStructures    12\nnone           5\nName: Objectives, dtype: int64\n------------------------------\nUnits: 1     74\n3      8\n2      5\n5      4\n6      2\n15     1\n12     1\n7      1\n4      1\nName: Units, dtype: int64\n------------------------------\nRange: 0.50     11\n5.00     10\n0.70      8\n5.50      7\n3.50      6\n6.00      6\n0.75      5\n1.20      5\n2.00      4\n0.80      4\n1.50      4\n4.00      3\n2.50      3\n1.00      2\n0.10      2\n1.70      2\n4.50      2\n0.30      2\n3.00      1\n11.50     1\n7.00      1\n6.50      1\n1.80      1\n0.35      1\n11.10     1\n7.50      1\n5.10      1\n9.00      1\n1.60      1\nName: Range, dtype: int64\n------------------------------\nSpeed: medium       47\nfast         21\nvery fast    17\nslow         10\nvery slow     1\nVery fast     1\nName: Speed, dtype: int64\n------------------------------\nHit-Speed: 1.00    22\n1.10    12\n1.70     8\n1.50     7\n1.40     6\n0.00     6\n1.30     5\n1.20     5\n1.80     4\n2.50     3\n3.00     3\n1.60     3\n0.70     2\n0.40     2\n2.40     1\n2.10     1\n0.80     1\n2.20     1\n2.00     1\n0.25     1\n4.00     1\n5.00     1\n1.90     1\nName: Hit-speed, dtype: int64\n------------------------------\ndamage-area: 0.0       61\n159.0      3\n84.0       2\n111.0      2\n53.0       2\n957.0      1\n4.0        1\n266.0      1\n5.0        1\n184.0      1\n271.0      1\n239.0      1\n206.0      1\n572.0      1\n95.0       1\n82.0       1\n1.2        1\n234.0      1\n70.0       1\n91.0       1\n75.0       1\n222.0      1\n220.0      1\n140.0      1\n700.0      1\n318.0      1\n216.0      1\n1100.0     1\n240.0      1\n221.0      1\n325.0      1\n259.0      1\nName: damage-area, dtype: int64\n------------------------------\nLife-points: 0       14\n67       4\n598      3\n440      3\n190      3\n        ..\n1461     1\n715      1\n140      1\n970      1\n3275     1\nName: Life-points, Length: 65, dtype: int64\n------------------------------\nDamage: 67     8\n159    5\n0      4\n160    3\n167    3\n      ..\n83     1\n258    1\n234    1\n877    1\n254    1\nName: Damage, Length: 62, dtype: int64\n------------------------------\nOther-attack: 67     7\n0      4\n84     3\n75     3\n56     3\n      ..\n376    1\n250    1\n100    1\n61     1\n320    1\nName: Other-attack, Length: 73, dtype: int64\n------------------------------\nUsage: 0.05    10\n0.03     8\n0.02     7\n0.13     7\n0.06     7\n0.09     6\n0.04     6\n0.01     5\n0.12     5\n0.08     5\n0.10     5\n0.11     4\n0.20     3\n0.19     2\n0.07     2\n0.16     2\n0.00     2\n0.15     1\n0.17     1\n0.28     1\n0.26     1\n0.27     1\n0.14     1\n0.18     1\n0.24     1\n0.21     1\n0.23     1\n0.35     1\nName: Usage, dtype: int64\n------------------------------\nWin: 0.51    22\n0.49    21\n0.52    13\n0.50    13\n0.48    10\n0.53     8\n0.47     3\n0.44     2\n0.45     2\n0.46     2\n0.40     1\nName: Win, dtype: int64\n------------------------------\n"
    }
   ],
   "source": [
    "# Valores Unicos  \n",
    "#%%\n",
    "print('Elixir cost: ', data['Elixir-cost'].value_counts())\n",
    "print('------------------------------')\n",
    "print('Type: ', data['Type'].value_counts())\n",
    "print('------------------------------')\n",
    "print('Rarity: ', data['Rarity'].value_counts())\n",
    "print('------------------------------')\n",
    "print('Objectives: ', data['Objectives'].value_counts())\n",
    "print('------------------------------')\n",
    "print('Units:', data['Units'].value_counts())\n",
    "print('------------------------------')\n",
    "print('Range:', data['Range'].value_counts())\n",
    "print('------------------------------')\n",
    "print('Speed:', data['Speed'].value_counts())\n",
    "print('------------------------------')\n",
    "print('Hit-Speed:', data['Hit-speed'].value_counts())\n",
    "print('------------------------------')\n",
    "print('damage-area:', data['damage-area'].value_counts())\n",
    "print('------------------------------')\n",
    "print('Life-points:', data['Life-points'].value_counts())\n",
    "print('------------------------------')\n",
    "print('Damage:', data['Damage'].value_counts())\n",
    "print('------------------------------')\n",
    "print('Other-attack:', data['Other-attack'].value_counts())\n",
    "print('------------------------------')\n",
    "print('Usage:', data['Usage'].value_counts())\n",
    "print('------------------------------')\n",
    "print('Win:', data['Win'].value_counts())\n",
    "print('------------------------------')\n"
   ]
  },
  {
   "cell_type": "code",
   "execution_count": 11,
   "metadata": {},
   "outputs": [
    {
     "data": {
      "text/plain": "Elixir-cost       int64\nType             object\nRarity           object\nObjectives       object\nUnits             int64\nRange           float64\nSpeed            object\nHit-speed       float64\ndamage-area     float64\nLife-points       int64\nDamage            int64\nOther-attack      int64\nUsage           float64\nWin             float64\ndtype: object"
     },
     "execution_count": 11,
     "metadata": {},
     "output_type": "execute_result"
    }
   ],
   "source": [
    "## \n",
    "#%%\n"
   ]
  },
  {
   "cell_type": "code",
   "execution_count": null,
   "metadata": {},
   "outputs": [],
   "source": []
  }
 ]
}