{
 "nbformat": 4,
 "nbformat_minor": 2,
 "metadata": {
  "language_info": {
   "name": "python",
   "codemirror_mode": {
    "name": "ipython",
    "version": 3
   },
   "version": "3.7.4-final"
  },
  "orig_nbformat": 2,
  "file_extension": ".py",
  "mimetype": "text/x-python",
  "name": "python",
  "npconvert_exporter": "python",
  "pygments_lexer": "ipython3",
  "version": 3,
  "kernelspec": {
   "name": "python3",
   "display_name": "Python 3"
  }
 },
 "cells": [
  {
   "cell_type": "code",
   "execution_count": 9,
   "metadata": {},
   "outputs": [],
   "source": [
    "## Area de importacion\n",
    "#%%\n",
    "import requests\n",
    "import json\n",
    "import pandas\n",
    "import urllib"
   ]
  },
  {
   "cell_type": "code",
   "execution_count": 10,
   "metadata": {},
   "outputs": [],
   "source": [
    "## Carga de archivos\n",
    "#%%\n",
    "\n",
    "### \"This content is not affiliated with, endorsed, sponsored, or specifically approved by Supercell and Supercell is not responsible for it. For more information see Supercell’s Fan Content Policy: www.supercell.com/fan-content-policy.\"\n",
    "### \n",
    "with open(\"my_key.txt\") as f:\n",
    "    my_key = f.read()\n",
    "    URL = \"https://api.clashroyale.com/v1\"\n",
    "\n",
    "    ##Request all cards\n",
    "    cards = '/cards'\n",
    "    request_cards = urllib.request.Request(url+cards, None, {\"Authorization\": \"Bearer %s\" %my_key})\n",
    "    response_cards = urllib.request.urlopen(request_cards).read().decode(\"utf-8\")\n",
    "    response_json_cards = json.loads(response_cards)"
   ]
  },
  {
   "cell_type": "code",
   "execution_count": 21,
   "metadata": {},
   "outputs": [],
   "source": [
    "data = pandas.DataFrame(response_json_cards['items'])\n",
    "pandas.DataFrame.to_csv(data, 'all_cards.csv')"
   ]
  },
  {
   "cell_type": "code",
   "execution_count": 15,
   "metadata": {},
   "outputs": [],
   "source": [
    "#%%\n",
    "with open(\"my_key.txt\") as f:\n",
    "    my_key = f.read()\n",
    "    URL = \"https://api.clashroyale.com/v1\"\n",
    "\n",
    "    ##Request all tournaments\n",
    "    tournaments = '/globaltournaments'\n",
    "    request_tournaments = urllib.request.Request(url+tournaments, None, {\"Authorization\": \"Bearer %s\" %my_key})\n",
    "    response_tournaments = urllib.request.urlopen(request_tournaments).read().decode(\"utf-8\")\n",
    "    response_json_clans = json.loads(response_tournaments)\n"
   ]
  },
  {
   "cell_type": "code",
   "execution_count": 22,
   "metadata": {},
   "outputs": [
    {
     "data": {
      "text/plain": "{'items': []}"
     },
     "execution_count": 22,
     "metadata": {},
     "output_type": "execute_result"
    }
   ],
   "source": [
    "#%%\n",
    "response_json_clans"
   ]
  },
  {
   "cell_type": "code",
   "execution_count": 24,
   "metadata": {},
   "outputs": [
    {
     "data": {
      "text/plain": ",\n  {'id': 57000028, 'name': 'Belarus', 'isCountry': True, 'countryCode': 'BY'},\n  {'id': 57000029, 'name': 'Belgium', 'isCountry': True, 'countryCode': 'BE'},\n  {'id': 57000030, 'name': 'Belize', 'isCountry': True, 'countryCode': 'BZ'},\n  {'id': 57000031, 'name': 'Benin', 'isCountry': True, 'countryCode': 'BJ'},\n  {'id': 57000032, 'name': 'Bermuda', 'isCountry': True, 'countryCode': 'BM'},\n  {'id': 57000033, 'name': 'Bhutan', 'isCountry': True, 'countryCode': 'BT'},\n  {'id': 57000034, 'name': 'Bolivia', 'isCountry': True, 'countryCode': 'BO'},\n  {'id': 57000035,\n   'name': 'Bosnia and Herzegovina',\n   'isCountry': True,\n   'countryCode': 'BA'},\n  {'id': 57000036, 'name': 'Botswana', 'isCountry': True, 'countryCode': 'BW'},\n  {'id': 57000037,\n   'name': 'Bouvet Island',\n   'isCountry': True,\n   'countryCode': 'BV'},\n  {'id': 57000038, 'name': 'Brazil', 'isCountry': True, 'countryCode': 'BR'},\n  {'id': 57000039,\n   'name': 'British Indian Ocean Territory',\n   'isCountry': True,\n   'countryCode': 'IO'},\n  {'id': 57000040,\n   'name': 'British Virgin Islands',\n   'isCountry': True,\n   'countryCode': 'VG'},\n  {'id': 57000041, 'name': 'Brunei', 'isCountry': True, 'countryCode': 'BN'},\n  {'id': 57000042, 'name': 'Bulgaria', 'isCountry': True, 'countryCode': 'BG'},\n  {'id': 57000043,\n   'name': 'Burkina Faso',\n   'isCountry': True,\n   'countryCode': 'BF'},\n  {'id': 57000044, 'name': 'Burundi', 'isCountry': True, 'countryCode': 'BI'},\n  {'id': 57000045, 'name': 'Cambodia', 'isCountry': True, 'countryCode': 'KH'},\n  {'id': 57000046, 'name': 'Cameroon', 'isCountry': True, 'countryCode': 'CM'},\n  {'id': 57000047, 'name': 'Canada', 'isCountry': True, 'countryCode': 'CA'},\n  {'id': 57000048,\n   'name': 'Canary Islands',\n   'isCountry': True,\n   'countryCode': 'IC'},\n  {'id': 57000049,\n   'name': 'Cape Verde',\n   'isCountry': True,\n   'countryCode': 'CV'},\n  {'id': 57000050,\n   'name': 'Caribbean Netherlands',\n   'isCountry': True,\n   'countryCode': 'BQ'},\n  {'id': 57000051,\n   'name': 'Cayman Islands',\n   'isCountry': True,\n   'countryCode': 'KY'},\n  {'id': 57000052,\n   'name': 'Central African Republic',\n   'isCountry': True,\n   'countryCode': 'CF'},\n  {'id': 57000053,\n   'name': 'Ceuta and Melilla',\n   'isCountry': True,\n   'countryCode': 'EA'},\n  {'id': 57000054, 'name': 'Chad', 'isCountry': True, 'countryCode': 'TD'},\n  {'id': 57000055, 'name': 'Chile', 'isCountry': True, 'countryCode': 'CL'},\n  {'id': 57000056, 'name': 'China', 'isCountry': True, 'countryCode': 'CN'},\n  {'id': 57000057,\n   'name': 'Christmas Island',\n   'isCountry': True,\n   'countryCode': 'CX'},\n  {'id': 57000058,\n   'name': 'Cocos (Keeling) Islands',\n   'isCountry': True,\n   'countryCode': 'CC'},\n  {'id': 57000059, 'name': 'Colombia', 'isCountry': True, 'countryCode': 'CO'},\n  {'id': 57000060, 'name': 'Comoros', 'isCountry': True, 'countryCode': 'KM'},\n  {'id': 57000061,\n   'name': 'Congo (DRC)',\n   'isCountry': True,\n   'countryCode': 'CG'},\n  {'id': 57000062,\n   'name': 'Congo (Republic)',\n   'isCountry': True,\n   'countryCode': 'CD'},\n  {'id': 57000063,\n   'name': 'Cook Islands',\n   'isCountry': True,\n   'countryCode': 'CK'},\n  {'id': 57000064,\n   'name': 'Costa Rica',\n   'isCountry': True,\n   'countryCode': 'CR'},\n  {'id': 57000065,\n   'name': 'Côte d’Ivoire',\n   'isCountry': True,\n   'countryCode': 'CI'},\n  {'id': 57000066, 'name': 'Croatia', 'isCountry': True, 'countryCode': 'HR'},\n  {'id': 57000067, 'name': 'Cuba', 'isCountry': True, 'countryCode': 'CU'},\n  {'id': 57000068, 'name': 'Curaçao', 'isCountry': True, 'countryCode': 'CW'},\n  {'id': 57000069, 'name': 'Cyprus', 'isCountry': True, 'countryCode': 'CY'},\n  {'id': 57000070,\n   'name': 'Czech Republic',\n   'isCountry': True,\n   'countryCode': 'CZ'},\n  {'id': 57000071, 'name': 'Denmark', 'isCountry': True, 'countryCode': 'DK'},\n  {'id': 57000072,\n   'name': 'Diego Garcia',\n   'isCountry': True,\n   'countryCode': 'DG'},\n  {'id': 57000073, 'name': 'Djibouti', 'isCountry': True, 'countryCode': 'DJ'},\n  {'id': 57000074, 'name': 'Dominica', 'isCountry': True, 'countryCode': 'DM'},\n  {'id': 57000075,\n   'name': 'Dominican Republic',\n   'isCountry': True,\n   'countryCode': 'DO'},\n  {'id': 57000076, 'name': 'Ecuador', 'isCountry': True, 'countryCode': 'EC'},\n  {'id': 57000077, 'name': 'Egypt', 'isCountry': True, 'countryCode': 'EG'},\n  {'id': 57000078,\n   'name': 'El Salvador',\n   'isCountry': True,\n   'countryCode': 'SV'},\n  {'id': 57000079,\n   'name': 'Equatorial Guinea',\n   'isCountry': True,\n   'countryCode': 'GQ'},\n  {'id': 57000080, 'name': 'Eritrea', 'isCountry': True, 'countryCode': 'ER'},\n  {'id': 57000081, 'name': 'Estonia', 'isCountry': True, 'countryCode': 'EE'},\n  {'id': 57000082, 'name': 'Ethiopia', 'isCountry': True, 'countryCode': 'ET'},\n  {'id': 57000083,\n   'name': 'Falkland Islands',\n   'isCountry': True,\n   'countryCode': 'FK'},\n  {'id': 57000084,\n   'name': 'Faroe Islands',\n   'isCountry': True,\n   'countryCode': 'FO'},\n  {'id': 57000085, 'name': 'Fiji', 'isCountry': True, 'countryCode': 'FJ'},\n  {'id': 57000086, 'name': 'Finland', 'isCountry': True, 'countryCode': 'FI'},\n  {'id': 57000087, 'name': 'France', 'isCountry': True, 'countryCode': 'FR'},\n  {'id': 57000088,\n   'name': 'French Guiana',\n   'isCountry': True,\n   'countryCode': 'GF'},\n  {'id': 57000089,\n   'name': 'French Polynesia',\n   'isCountry': True,\n   'countryCode': 'PF'},\n  {'id': 57000090,\n   'name': 'French Southern Territories',\n   'isCountry': True,\n   'countryCode': 'TF'},\n  {'id': 57000091, 'name': 'Gabon', 'isCountry': True, 'countryCode': 'GA'},\n  {'id': 57000092, 'name': 'Gambia', 'isCountry': True, 'countryCode': 'GM'},\n  {'id': 57000093, 'name': 'Georgia', 'isCountry': True, 'countryCode': 'GE'},\n  {'id': 57000094, 'name': 'Germany', 'isCountry': True, 'countryCode': 'DE'},\n  {'id': 57000095, 'name': 'Ghana', 'isCountry': True, 'countryCode': 'GH'},\n  {'id': 57000096,\n   'name': 'Gibraltar',\n   'isCountry': True,\n   'countryCode': 'GI'},\n  {'id': 57000097, 'name': 'Greece', 'isCountry': True, 'countryCode': 'GR'},\n  {'id': 57000098,\n   'name': 'Greenland',\n   'isCountry': True,\n   'countryCode': 'GL'},\n  {'id': 57000099, 'name': 'Grenada', 'isCountry': True, 'countryCode': 'GD'},\n  {'id': 57000100,\n   'name': 'Guadeloupe',\n   'isCountry': True,\n   'countryCode': 'GP'},\n  {'id': 57000101, 'name': 'Guam', 'isCountry': True, 'countryCode': 'GU'},\n  {'id': 57000102,\n   'name': 'Guatemala',\n   'isCountry': True,\n   'countryCode': 'GT'},\n  {'id': 57000103, 'name': 'Guernsey', 'isCountry': True, 'countryCode': 'GG'},\n  {'id': 57000104, 'name': 'Guinea', 'isCountry': True, 'countryCode': 'GN'},\n  {'id': 57000105,\n   'name': 'Guinea-Bissau',\n   'isCountry': True,\n   'countryCode': 'GW'},\n  {'id': 57000106, 'name': 'Guyana', 'isCountry': True, 'countryCode': 'GY'},\n  {'id': 57000107, 'name': 'Haiti', 'isCountry': True, 'countryCode': 'HT'},\n  {'id': 57000108,\n   'name': 'Heard & McDonald Islands',\n   'isCountry': True,\n   'countryCode': 'HM'},\n  {'id': 57000109, 'name': 'Honduras', 'isCountry': True, 'countryCode': 'HN'},\n  {'id': 57000110,\n   'name': 'Hong Kong',\n   'isCountry': True,\n   'countryCode': 'HK'},\n  {'id': 57000111, 'name': 'Hungary', 'isCountry': True, 'countryCode': 'HU'},\n  {'id': 57000112, 'name': 'Iceland', 'isCountry': True, 'countryCode': 'IS'},\n  {'id': 57000113, 'name': 'India', 'isCountry': True, 'countryCode': 'IN'},\n  {'id': 57000114,\n   'name': 'Indonesia',\n   'isCountry': True,\n   'countryCode': 'ID'},\n  {'id': 57000115, 'name': 'Iran', 'isCountry': True, 'countryCode': 'IR'},\n  {'id': 57000116, 'name': 'Iraq', 'isCountry': True, 'countryCode': 'IQ'},\n  {'id': 57000117, 'name': 'Ireland', 'isCountry': True, 'countryCode': 'IE'},\n  {'id': 57000118,\n   'name': 'Isle of Man',\n   'isCountry': True,\n   'countryCode': 'IM'},\n  {'id': 57000119, 'name': 'Israel', 'isCountry': True, 'countryCode': 'IL'},\n  {'id': 57000120, 'name': 'Italy', 'isCountry': True, 'countryCode': 'IT'},\n  {'id': 57000121, 'name': 'Jamaica', 'isCountry': True, 'countryCode': 'JM'},\n  {'id': 57000122, 'name': 'Japan', 'isCountry': True, 'countryCode': 'JP'},\n  {'id': 57000123, 'name': 'Jersey', 'isCountry': True, 'countryCode': 'JE'},\n  {'id': 57000124, 'name': 'Jordan', 'isCountry': True, 'countryCode': 'JO'},\n  {'id': 57000125,\n   'name': 'Kazakhstan',\n   'isCountry': True,\n   'countryCode': 'KZ'},\n  {'id': 57000126, 'name': 'Kenya', 'isCountry': True, 'countryCode': 'KE'},\n  {'id': 57000127, 'name': 'Kiribati', 'isCountry': True, 'countryCode': 'KI'},\n  {'id': 57000128, 'name': 'Kosovo', 'isCountry': True, 'countryCode': 'XK'},\n  {'id': 57000129, 'name': 'Kuwait', 'isCountry': True, 'countryCode': 'KW'},\n  {'id': 57000130,\n   'name': 'Kyrgyzstan',\n   'isCountry': True,\n   'countryCode': 'KG'},\n  {'id': 57000131, 'name': 'Laos', 'isCountry': True, 'countryCode': 'LA'},\n  {'id': 57000132, 'name': 'Latvia', 'isCountry': True, 'countryCode': 'LV'},\n  {'id': 57000133, 'name': 'Lebanon', 'isCountry': True, 'countryCode': 'LB'},\n  {'id': 57000134, 'name': 'Lesotho', 'isCountry': True, 'countryCode': 'LS'},\n  {'id': 57000135, 'name': 'Liberia', 'isCountry': True, 'countryCode': 'LR'},\n  {'id': 57000136, 'name': 'Libya', 'isCountry': True, 'countryCode': 'LY'},\n  {'id': 57000137,\n   'name': 'Liechtenstein',\n   'isCountry': True,\n   'countryCode': 'LI'},\n  {'id': 57000138,\n   'name': 'Lithuania',\n   'isCountry': True,\n   'countryCode': 'LT'},\n  {'id': 57000139,\n   'name': 'Luxembourg',\n   'isCountry': True,\n   'countryCode': 'LU'},\n  {'id': 57000140, 'name': 'Macau', 'isCountry': True, 'countryCode': 'MO'},\n  {'id': 57000141,\n   'name': 'Macedonia (FYROM)',\n   'isCountry': True,\n   'countryCode': 'MK'},\n  {'id': 57000142,\n   'name': 'Madagascar',\n   'isCountry': True,\n   'countryCode': 'MG'},\n  {'id': 57000143, 'name': 'Malawi', 'isCountry': True, 'countryCode': 'MW'},\n  {'id': 57000144, 'name': 'Malaysia', 'isCountry': True, 'countryCode': 'MY'},\n  {'id': 57000145, 'name': 'Maldives', 'isCountry': True, 'countryCode': 'MV'},\n  {'id': 57000146, 'name': 'Mali', 'isCountry': True, 'countryCode': 'ML'},\n  {'id': 57000147, 'name': 'Malta', 'isCountry': True, 'countryCode': 'MT'},\n  {'id': 57000148,\n   'name': 'Marshall Islands',\n   'isCountry': True,\n   'countryCode': 'MH'},\n  {'id': 57000149,\n   'name': 'Martinique',\n   'isCountry': True,\n   'countryCode': 'MQ'},\n  {'id': 57000150,\n   'name': 'Mauritania',\n   'isCountry': True,\n   'countryCode': 'MR'},\n  {'id': 57000151,\n   'name': 'Mauritius',\n   'isCountry': True,\n   'countryCode': 'MU'},\n  {'id': 57000152, 'name': 'Mayotte', 'isCountry': True, 'countryCode': 'YT'},\n  {'id': 57000153, 'name': 'Mexico', 'isCountry': True, 'countryCode': 'MX'},\n  {'id': 57000154,\n   'name': 'Micronesia',\n   'isCountry': True,\n   'countryCode': 'FM'},\n  {'id': 57000155, 'name': 'Moldova', 'isCountry': True, 'countryCode': 'MD'},\n  {'id': 57000156, 'name': 'Monaco', 'isCountry': True, 'countryCode': 'MC'},\n  {'id': 57000157, 'name': 'Mongolia', 'isCountry': True, 'countryCode': 'MN'},\n  {'id': 57000158,\n   'name': 'Montenegro',\n   'isCountry': True,\n   'countryCode': 'ME'},\n  {'id': 57000159,\n   'name': 'Montserrat',\n   'isCountry': True,\n   'countryCode': 'MS'},\n  {'id': 57000160, 'name': 'Morocco', 'isCountry': True, 'countryCode': 'MA'},\n  {'id': 57000161,\n   'name': 'Mozambique',\n   'isCountry': True,\n   'countryCode': 'MZ'},\n  {'id': 57000162,\n   'name': 'Myanmar (Burma)',\n   'isCountry': True,\n   'countryCode': 'MM'},\n  {'id': 57000163, 'name': 'Namibia', 'isCountry': True, 'countryCode': 'NA'},\n  {'id': 57000164, 'name': 'Nauru', 'isCountry': True, 'countryCode': 'NR'},\n  {'id': 57000165, 'name': 'Nepal', 'isCountry': True, 'countryCode': 'NP'},\n  {'id': 57000166,\n   'name': 'Netherlands',\n   'isCountry': True,\n   'countryCode': 'NL'},\n  {'id': 57000167,\n   'name': 'New Caledonia',\n   'isCountry': True,\n   'countryCode': 'NC'},\n  {'id': 57000168,\n   'name': 'New Zealand',\n   'isCountry': True,\n   'countryCode': 'NZ'},\n  {'id': 57000169,\n   'name': 'Nicaragua',\n   'isCountry': True,\n   'countryCode': 'NI'},\n  {'id': 57000170, 'name': 'Niger', 'isCountry': True, 'countryCode': 'NE'},\n  {'id': 57000171, 'name': 'Nigeria', 'isCountry': True, 'countryCode': 'NG'},\n  {'id': 57000172, 'name': 'Niue', 'isCountry': True, 'countryCode': 'NU'},\n  {'id': 57000173,\n   'name': 'Norfolk Island',\n   'isCountry': True,\n   'countryCode': 'NF'},\n  {'id': 57000174,\n   'name': 'North Korea',\n   'isCountry': True,\n   'countryCode': 'KP'},\n  {'id': 57000175,\n   'name': 'Northern Mariana Islands',\n   'isCountry': True,\n   'countryCode': 'MP'},\n  {'id': 57000176, 'name': 'Norway', 'isCountry': True, 'countryCode': 'NO'},\n  {'id': 57000177, 'name': 'Oman', 'isCountry': True, 'countryCode': 'OM'},\n  {'id': 57000178, 'name': 'Pakistan', 'isCountry': True, 'countryCode': 'PK'},\n  {'id': 57000179, 'name': 'Palau', 'isCountry': True, 'countryCode': 'PW'},\n  {'id': 57000180,\n   'name': 'Palestine',\n   'isCountry': True,\n   'countryCode': 'PS'},\n  {'id': 57000181, 'name': 'Panama', 'isCountry': True, 'countryCode': 'PA'},\n  {'id': 57000182,\n   'name': 'Papua New Guinea',\n   'isCountry': True,\n   'countryCode': 'PG'},\n  {'id': 57000183, 'name': 'Paraguay', 'isCountry': True, 'countryCode': 'PY'},\n  {'id': 57000184, 'name': 'Peru', 'isCountry': True, 'countryCode': 'PE'},\n  {'id': 57000185,\n   'name': 'Philippines',\n   'isCountry': True,\n   'countryCode': 'PH'},\n  {'id': 57000186,\n   'name': 'Pitcairn Islands',\n   'isCountry': True,\n   'countryCode': 'PN'},\n  {'id': 57000187, 'name': 'Poland', 'isCountry': True, 'countryCode': 'PL'},\n  {'id': 57000188, 'name': 'Portugal', 'isCountry': True, 'countryCode': 'PT'},\n  {'id': 57000189,\n   'name': 'Puerto Rico',\n   'isCountry': True,\n   'countryCode': 'PR'},\n  {'id': 57000190, 'name': 'Qatar', 'isCountry': True, 'countryCode': 'QA'},\n  {'id': 57000191, 'name': 'Réunion', 'isCountry': True, 'countryCode': 'RE'},\n  {'id': 57000192, 'name': 'Romania', 'isCountry': True, 'countryCode': 'RO'},\n  {'id': 57000193, 'name': 'Russia', 'isCountry': True, 'countryCode': 'RU'},\n  {'id': 57000194, 'name': 'Rwanda', 'isCountry': True, 'countryCode': 'RW'},\n  {'id': 57000195,\n   'name': 'Saint Barthélemy',\n   'isCountry': True,\n   'countryCode': 'BL'},\n  {'id': 57000196,\n   'name': 'Saint Helena',\n   'isCountry': True,\n   'countryCode': 'SH'},\n  {'id': 57000197,\n   'name': 'Saint Kitts and Nevis',\n   'isCountry': True,\n   'countryCode': 'KN'},\n  {'id': 57000198,\n   'name': 'Saint Lucia',\n   'isCountry': True,\n   'countryCode': 'LC'},\n  {'id': 57000199,\n   'name': 'Saint Martin',\n   'isCountry': True,\n   'countryCode': 'MF'},\n  {'id': 57000200,\n   'name': 'Saint Pierre and Miquelon',\n   'isCountry': True,\n   'countryCode': 'PM'},\n  {'id': 57000201, 'name': 'Samoa', 'isCountry': True, 'countryCode': 'WS'},\n  {'id': 57000202,\n   'name': 'San Marino',\n   'isCountry': True,\n   'countryCode': 'SM'},\n  {'id': 57000203,\n   'name': 'São Tomé and Príncipe',\n   'isCountry': True,\n   'countryCode': 'ST'},\n  {'id': 57000204,\n   'name': 'Saudi Arabia',\n   'isCountry': True,\n   'countryCode': 'SA'},\n  {'id': 57000205, 'name': 'Senegal', 'isCountry': True, 'countryCode': 'SN'},\n  {'id': 57000206, 'name': 'Serbia', 'isCountry': True, 'countryCode': 'RS'},\n  {'id': 57000207,\n   'name': 'Seychelles',\n   'isCountry': True,\n   'countryCode': 'SC'},\n  {'id': 57000208,\n   'name': 'Sierra Leone',\n   'isCountry': True,\n   'countryCode': 'SL'},\n  {'id': 57000209,\n   'name': 'Singapore',\n   'isCountry': True,\n   'countryCode': 'SG'},\n  {'id': 57000210,\n   'name': 'Sint Maarten',\n   'isCountry': True,\n   'countryCode': 'SX'},\n  {'id': 57000211, 'name': 'Slovakia', 'isCountry': True, 'countryCode': 'SK'},\n  {'id': 57000212, 'name': 'Slovenia', 'isCountry': True, 'countryCode': 'SI'},\n  {'id': 57000213,\n   'name': 'Solomon Islands',\n   'isCountry': True,\n   'countryCode': 'SB'},\n  {'id': 57000214, 'name': 'Somalia', 'isCountry': True, 'countryCode': 'SO'},\n  {'id': 57000215,\n   'name': 'South Africa',\n   'isCountry': True,\n   'countryCode': 'ZA'},\n  {'id': 57000216,\n   'name': 'South Korea',\n   'isCountry': True,\n   'countryCode': 'KR'},\n  {'id': 57000217,\n   'name': 'South Sudan',\n   'isCountry': True,\n   'countryCode': 'SS'},\n  {'id': 57000218, 'name': 'Spain', 'isCountry': True, 'countryCode': 'ES'},\n  {'id': 57000219,\n   'name': 'Sri Lanka',\n   'isCountry': True,\n   'countryCode': 'LK'},\n  {'id': 57000220,\n   'name': 'St. Vincent & Grenadines',\n   'isCountry': True,\n   'countryCode': 'VC'},\n  {'id': 57000221, 'name': 'Sudan', 'isCountry': True, 'countryCode': 'SD'},\n  {'id': 57000222, 'name': 'Suriname', 'isCountry': True, 'countryCode': 'SR'},\n  {'id': 57000223,\n   'name': 'Svalbard and Jan Mayen',\n   'isCountry': True,\n   'countryCode': 'SJ'},\n  {'id': 57000224,\n   'name': 'Swaziland',\n   'isCountry': True,\n   'countryCode': 'SZ'},\n  {'id': 57000225, 'name': 'Sweden', 'isCountry': True, 'countryCode': 'SE'},\n  {'id': 57000226,\n   'name': 'Switzerland',\n   'isCountry': True,\n   'countryCode': 'CH'},\n  {'id': 57000227, 'name': 'Syria', 'isCountry': True, 'countryCode': 'SY'},\n  {'id': 57000228, 'name': 'Taiwan', 'isCountry': True, 'countryCode': 'TW'},\n  {'id': 57000229,\n   'name': 'Tajikistan',\n   'isCountry': True,\n   'countryCode': 'TJ'},\n  {'id': 57000230, 'name': 'Tanzania', 'isCountry': True, 'countryCode': 'TZ'},\n  {'id': 57000231, 'name': 'Thailand', 'isCountry': True, 'countryCode': 'TH'},\n  {'id': 57000232,\n   'name': 'Timor-Leste',\n   'isCountry': True,\n   'countryCode': 'TL'},\n  {'id': 57000233, 'name': 'Togo', 'isCountry': True, 'countryCode': 'TG'},\n  {'id': 57000234, 'name': 'Tokelau', 'isCountry': True, 'countryCode': 'TK'},\n  {'id': 57000235, 'name': 'Tonga', 'isCountry': True, 'countryCode': 'TO'},\n  {'id': 57000236,\n   'name': 'Trinidad and Tobago',\n   'isCountry': True,\n   'countryCode': 'TT'},\n  {'id': 57000237,\n   'name': 'Tristan da Cunha',\n   'isCountry': True,\n   'countryCode': 'TA'},\n  {'id': 57000238, 'name': 'Tunisia', 'isCountry': True, 'countryCode': 'TN'},\n  {'id': 57000239, 'name': 'Turkey', 'isCountry': True, 'countryCode': 'TR'},\n  {'id': 57000240,\n   'name': 'Turkmenistan',\n   'isCountry': True,\n   'countryCode': 'TM'},\n  {'id': 57000241,\n   'name': 'Turks and Caicos Islands',\n   'isCountry': True,\n   'countryCode': 'TC'},\n  {'id': 57000242, 'name': 'Tuvalu', 'isCountry': True, 'countryCode': 'TV'},\n  {'id': 57000243,\n   'name': 'U.S. Outlying Islands',\n   'isCountry': True,\n   'countryCode': 'UM'},\n  {'id': 57000244,\n   'name': 'U.S. Virgin Islands',\n   'isCountry': True,\n   'countryCode': 'VI'},\n  {'id': 57000245, 'name': 'Uganda', 'isCountry': True, 'countryCode': 'UG'},\n  {'id': 57000246, 'name': 'Ukraine', 'isCountry': True, 'countryCode': 'UA'},\n  {'id': 57000247,\n   'name': 'United Arab Emirates',\n   'isCountry': True,\n   'countryCode': 'AE'},\n  {'id': 57000248,\n   'name': 'United Kingdom',\n   'isCountry': True,\n   'countryCode': 'GB'},\n  {'id': 57000249,\n   'name': 'United States',\n   'isCountry': True,\n   'countryCode': 'US'},\n  {'id': 57000250, 'name': 'Uruguay', 'isCountry': True, 'countryCode': 'UY'},\n  {'id': 57000251,\n   'name': 'Uzbekistan',\n   'isCountry': True,\n   'countryCode': 'UZ'},\n  {'id': 57000252, 'name': 'Vanuatu', 'isCountry': True, 'countryCode': 'VU'},\n  {'id': 57000253,\n   'name': 'Vatican City',\n   'isCountry': True,\n   'countryCode': 'VA'},\n  {'id': 57000254,\n   'name': 'Venezuela',\n   'isCountry': True,\n   'countryCode': 'VE'},\n  {'id': 57000255, 'name': 'Vietnam', 'isCountry': True, 'countryCode': 'VN'},\n  {'id': 57000256,\n   'name': 'Wallis and Futuna',\n   'isCountry': True,\n   'countryCode': 'WF'},\n  {'id': 57000257,\n   'name': 'Western Sahara',\n   'isCountry': True,\n   'countryCode': 'EH'},\n  {'id': 57000258, 'name': 'Yemen', 'isCountry': True, 'countryCode': 'YE'},\n  {'id': 57000259, 'name': 'Zambia', 'isCountry': True, 'countryCode': 'ZM'},\n  {'id': 57000260,\n   'name': 'Zimbabwe',\n   'isCountry': True,\n   'countryCode': 'ZW'}],\n 'paging': {'cursors': {}}}"
     },
     "execution_count": 24,
     "metadata": {},
     "output_type": "execute_result"
    }
   ],
   "source": [
    "#%%\n",
    "\n",
    "with open(\"my_key.txt\") as f:\n",
    "    my_key = f.read()\n",
    "    URL = \"https://api.clashroyale.com/v1\"\n",
    "\n",
    "    ##Request all tournaments\n",
    "    locations = '/locations'\n",
    "    request_locations = urllib.request.Request(url+locations, None, {\"Authorization\": \"Bearer %s\" %my_key})\n",
    "    response_locations = urllib.request.urlopen(request_locations).read().decode(\"utf-8\")\n",
    "    response_json_clans = json.loads(response_locations)\n",
    "response_json_clans"
   ]
  },
  {
   "cell_type": "code",
   "execution_count": null,
   "metadata": {},
   "outputs": [],
   "source": []
  }
 ]
}